{
  "nbformat": 4,
  "nbformat_minor": 0,
  "metadata": {
    "colab": {
      "name": "script_project_ia_mi",
      "provenance": [],
      "collapsed_sections": [],
      "authorship_tag": "ABX9TyMRDxJH43t9JAiuBwQJTKy7",
      "include_colab_link": true
    },
    "kernelspec": {
      "name": "python3",
      "display_name": "Python 3"
    },
    "language_info": {
      "name": "python"
    }
  },
  "cells": [
    {
      "cell_type": "markdown",
      "metadata": {
        "id": "view-in-github",
        "colab_type": "text"
      },
      "source": [
        "<a href=\"https://colab.research.google.com/github/vitskrieg/Machine-Learning-applied-to-mental-health/blob/main/script_project_ia_mi.ipynb\" target=\"_parent\"><img src=\"https://colab.research.google.com/assets/colab-badge.svg\" alt=\"Open In Colab\"/></a>"
      ]
    },
    {
      "cell_type": "code",
      "execution_count": null,
      "metadata": {
        "id": "3KAOfJmNn7_2"
      },
      "outputs": [],
      "source": [
        ""
      ]
    }
  ]
}